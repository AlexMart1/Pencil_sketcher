{
 "cells": [
  {
   "cell_type": "markdown",
   "metadata": {},
   "source": [
    "# Pencil sketcher"
   ]
  },
  {
   "cell_type": "markdown",
   "metadata": {},
   "source": [
    "Code snippet seen on facebook. Ligeras modificaciones para guardar el archivo en vez de mostrarlo y comentarios adicionales para facilitar el ajuste"
   ]
  },
  {
   "cell_type": "code",
   "execution_count": 5,
   "metadata": {},
   "outputs": [],
   "source": [
    "import cv2\n",
    "import sys\n",
    "import numpy as np"
   ]
  },
  {
   "cell_type": "code",
   "execution_count": 19,
   "metadata": {},
   "outputs": [
    {
     "data": {
      "text/plain": [
       "True"
      ]
     },
     "execution_count": 19,
     "metadata": {},
     "output_type": "execute_result"
    }
   ],
   "source": [
    "#ubicación de imagen de entrada\n",
    "image = cv2.imread(r'tests/husky.jpg')\n",
    "grayimage = cv2.cvtColor(image, cv2.COLOR_BGR2GRAY)\n",
    "grayimageinv = 255 - grayimage\n",
    "grayimageinv = cv2.GaussianBlur(grayimageinv, (55,55),0)\n",
    "output = cv2.divide(grayimage, 255 - grayimageinv, scale=256.0)\n",
    "#ubicacion de imagen de salida\n",
    "cv2.imwrite('tests/husky_pencil.jpg', output)"
   ]
  },
  {
   "cell_type": "markdown",
   "metadata": {},
   "source": [
    "Celda adicional para guardar la imagen a lado de la otra"
   ]
  },
  {
   "cell_type": "code",
   "execution_count": 20,
   "metadata": {},
   "outputs": [
    {
     "data": {
      "text/plain": [
       "True"
      ]
     },
     "execution_count": 20,
     "metadata": {},
     "output_type": "execute_result"
    }
   ],
   "source": [
    "color_output = cv2.cvtColor(output,cv2.COLOR_GRAY2BGR)\n",
    "h_img = cv2.hconcat([image, color_output])\n",
    "cv2.imwrite('tests/after_pencil.jpg', h_img)"
   ]
  }
 ],
 "metadata": {
  "kernelspec": {
   "display_name": "Python 3",
   "language": "python",
   "name": "python3"
  },
  "language_info": {
   "codemirror_mode": {
    "name": "ipython",
    "version": 3
   },
   "file_extension": ".py",
   "mimetype": "text/x-python",
   "name": "python",
   "nbconvert_exporter": "python",
   "pygments_lexer": "ipython3",
   "version": "3.8.5"
  }
 },
 "nbformat": 4,
 "nbformat_minor": 4
}
